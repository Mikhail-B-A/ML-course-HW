{
 "cells": [
  {
   "cell_type": "code",
   "execution_count": 1,
   "id": "d8aab37c",
   "metadata": {
    "execution": {
     "iopub.execute_input": "2024-12-21T15:51:30.370201Z",
     "iopub.status.busy": "2024-12-21T15:51:30.369073Z",
     "iopub.status.idle": "2024-12-21T15:51:31.974877Z",
     "shell.execute_reply": "2024-12-21T15:51:31.973888Z"
    },
    "papermill": {
     "duration": 1.614559,
     "end_time": "2024-12-21T15:51:31.977395",
     "exception": false,
     "start_time": "2024-12-21T15:51:30.362836",
     "status": "completed"
    },
    "tags": []
   },
   "outputs": [],
   "source": [
    "# !pip install jupyter_black\n",
    "# import jupyter_black\n",
    "# jupyter_black.load()\n",
    "\n",
    "import numpy as np\n",
    "from scipy import optimize\n",
    "import matplotlib.pyplot as plt\n",
    "import pandas as pd"
   ]
  },
  {
   "cell_type": "markdown",
   "id": "bb510c1f",
   "metadata": {
    "papermill": {
     "duration": 0.003229,
     "end_time": "2024-12-21T15:51:31.984382",
     "exception": false,
     "start_time": "2024-12-21T15:51:31.981153",
     "status": "completed"
    },
    "tags": []
   },
   "source": [
    "## Задача 1: Попарные углы\n",
    "\n",
    "Даны набор векторов. Без использования циклов в Python найдите номера двух различных векторов, угол между которыми - минимален. Максимум 3 строки, соответсвующие форматированию jupyter_black."
   ]
  },
  {
   "cell_type": "code",
   "execution_count": 2,
   "id": "8adc447f",
   "metadata": {
    "execution": {
     "iopub.execute_input": "2024-12-21T15:51:31.993024Z",
     "iopub.status.busy": "2024-12-21T15:51:31.992210Z",
     "iopub.status.idle": "2024-12-21T15:51:32.000907Z",
     "shell.execute_reply": "2024-12-21T15:51:31.999648Z"
    },
    "papermill": {
     "duration": 0.015765,
     "end_time": "2024-12-21T15:51:32.003481",
     "exception": false,
     "start_time": "2024-12-21T15:51:31.987716",
     "status": "completed"
    },
    "tags": []
   },
   "outputs": [],
   "source": [
    "# 10 векторов в R^4\n",
    "x = np.array(\n",
    "    [\n",
    "        [-1.05247805, 0.0813231, 0.94708268, -0.53371674],\n",
    "        [0.01359646, -1.43838044, 1.01326978, -0.38062482],\n",
    "        [0.30563645, 1.18997822, 0.48149476, 0.83524308],\n",
    "        [1.22609704, 1.72169283, -0.21137761, -1.21598295],\n",
    "        [0.6397264, -1.24751009, 0.03137696, 0.55576899],\n",
    "        [1.55630085, 1.2840827, -0.52525765, 2.4523538],\n",
    "        [-1.70632707, 0.45006017, -1.04214031, -1.47674443],\n",
    "        [-0.51870141, -0.01755243, 1.95102122, 0.36809772],\n",
    "        [-0.97629927, 0.35430853, -0.63895086, -0.2467184],\n",
    "        [-0.51120513, -0.33014789, -1.45017724, -0.02398285],\n",
    "    ]\n",
    ")"
   ]
  },
  {
   "cell_type": "markdown",
   "id": "1127debf",
   "metadata": {
    "papermill": {
     "duration": 0.003191,
     "end_time": "2024-12-21T15:51:32.010115",
     "exception": false,
     "start_time": "2024-12-21T15:51:32.006924",
     "status": "completed"
    },
    "tags": []
   },
   "source": [
    "Посчитаем матрицу углов между векторами из стандартной формулы\n",
    "\\begin{align}\n",
    "ab = |a||b|cos(\\alpha) =>\\\\\n",
    "=> \\alpha = arccos\\left(\\frac{ab}{|a||b|}\\right)\n",
    "\\end{align}\n",
    "Для этого считаем скалярное произведение с помощью **np.dot**\n",
    "и нормы векторов **np.linalg.norm**.\n",
    "**np.argmax** ищет максимальное значение косинуса, т.е. минимальное значение угла, **np.unravel_index** - переводит np индекс в двумерный."
   ]
  },
  {
   "cell_type": "code",
   "execution_count": 3,
   "id": "1225bd21",
   "metadata": {
    "execution": {
     "iopub.execute_input": "2024-12-21T15:51:32.018801Z",
     "iopub.status.busy": "2024-12-21T15:51:32.018381Z",
     "iopub.status.idle": "2024-12-21T15:51:32.031183Z",
     "shell.execute_reply": "2024-12-21T15:51:32.029934Z"
    },
    "papermill": {
     "duration": 0.020088,
     "end_time": "2024-12-21T15:51:32.033690",
     "exception": false,
     "start_time": "2024-12-21T15:51:32.013602",
     "status": "completed"
    },
    "tags": []
   },
   "outputs": [
    {
     "data": {
      "text/plain": [
       "(6, 8)"
      ]
     },
     "execution_count": 3,
     "metadata": {},
     "output_type": "execute_result"
    }
   ],
   "source": [
    "norms = np.linalg.norm(x, axis=1)\n",
    "cosine_sim = np.dot(x, x.T) / (norms[:, None] * norms)\n",
    "i, j = np.unravel_index(np.argmax(np.triu(cosine_sim, 1)), cosine_sim.shape)\n",
    "\n",
    "assert (i, j) == (6, 8) or (i, j) == (8, 6), \"Wrong Answer\"\n",
    "i, j"
   ]
  },
  {
   "cell_type": "markdown",
   "id": "65a826aa",
   "metadata": {
    "papermill": {
     "duration": 0.003228,
     "end_time": "2024-12-21T15:51:32.040889",
     "exception": false,
     "start_time": "2024-12-21T15:51:32.037661",
     "status": "completed"
    },
    "tags": []
   },
   "source": [
    "## Задача 2: Cвертка\n",
    "Реализуйте двумерную свертку при помощи numpy без использования циклов в python. \n",
    "Максимум 4 строки,  соответсвующие форматированию jupyter_black.\n",
    "\n",
    "![](https://upload.wikimedia.org/wikipedia/commons/1/19/2D_Convolution_Animation.gif)\n",
    "\n"
   ]
  },
  {
   "cell_type": "code",
   "execution_count": 4,
   "id": "17d74cd8",
   "metadata": {
    "execution": {
     "iopub.execute_input": "2024-12-21T15:51:32.050416Z",
     "iopub.status.busy": "2024-12-21T15:51:32.049067Z",
     "iopub.status.idle": "2024-12-21T15:51:32.061435Z",
     "shell.execute_reply": "2024-12-21T15:51:32.060396Z"
    },
    "papermill": {
     "duration": 0.019607,
     "end_time": "2024-12-21T15:51:32.063866",
     "exception": false,
     "start_time": "2024-12-21T15:51:32.044259",
     "status": "completed"
    },
    "tags": []
   },
   "outputs": [
    {
     "data": {
      "text/plain": [
       "array([[ 0,  1,  2,  3,  4,  5,  6,  7],\n",
       "       [ 8,  9, 10, 11, 12, 13, 14, 15],\n",
       "       [16, 17, 18, 19, 20, 21, 22, 23],\n",
       "       [24, 25, 26, 27, 28, 29, 30, 31],\n",
       "       [32, 33, 34, 35, 36, 37, 38, 39],\n",
       "       [40, 41, 42, 43, 44, 45, 46, 47],\n",
       "       [48, 49, 50, 51, 52, 53, 54, 55],\n",
       "       [56, 57, 58, 59, 60, 61, 62, 63]])"
      ]
     },
     "execution_count": 4,
     "metadata": {},
     "output_type": "execute_result"
    }
   ],
   "source": [
    "from numpy.lib.stride_tricks import sliding_window_view\n",
    "\n",
    "x = np.arange(64).reshape((8, 8))\n",
    "kernel = np.array([[1, -1, 2], [3, -2, 1], [0, 0, 1]])\n",
    "\n",
    "# x0, x1, k0, k1 = (\n",
    "#     x.shape[0] - kernel.shape[0] + 1,\n",
    "#     x.shape[1] - kernel.shape[1] + 1,\n",
    "#     *kernel.shape,\n",
    "# )\n",
    "# strided_x = np.lib.stride_tricks.as_strided(\n",
    "#     x, shape=(x0, x1, k0, k1), strides=x.strides * 2\n",
    "# )\n",
    "# x = np.einsum(\"ijkl,kl->ij\", strided_x, kernel)\n",
    "\n",
    "\n",
    "ans = np.array(\n",
    "    [\n",
    "        [37, 42, 47, 52, 57, 62],\n",
    "        [77, 82, 87, 92, 97, 102],\n",
    "        [117, 122, 127, 132, 137, 142],\n",
    "        [157, 162, 167, 172, 177, 182],\n",
    "        [197, 202, 207, 212, 217, 222],\n",
    "        [237, 242, 247, 252, 257, 262],\n",
    "    ]\n",
    ")\n",
    "# assert (x == ans).all(), \"Wrong answer\"\n",
    "x"
   ]
  },
  {
   "cell_type": "markdown",
   "id": "80ba47f4",
   "metadata": {
    "papermill": {
     "duration": 0.003525,
     "end_time": "2024-12-21T15:51:32.071640",
     "exception": false,
     "start_time": "2024-12-21T15:51:32.068115",
     "status": "completed"
    },
    "tags": []
   },
   "source": [
    "## Задача 3: Брахистохрона\n",
    "\n",
    "В классе мы находили брахистохрону через параметризацию соответсвующей дуги циклоиды. Ключевым здесь было то, что мы заранее знали, в каком виде искать ответ, что, к сожалению, далеко не всегда случается в реальной жизни. В этой задаче вам нужно будет построить кусочно-динейное приближение брахистохроны, не пользуясь явными формулами для ее формы. Другими словами, напишите функционал, который под данным высотам точек вычисляет время спуска, -- и минимизируйте этот функционал средствами scipy."
   ]
  },
  {
   "cell_type": "code",
   "execution_count": 5,
   "id": "f7f8d63e",
   "metadata": {
    "execution": {
     "iopub.execute_input": "2024-12-21T15:51:32.080965Z",
     "iopub.status.busy": "2024-12-21T15:51:32.080540Z",
     "iopub.status.idle": "2024-12-21T15:51:32.090510Z",
     "shell.execute_reply": "2024-12-21T15:51:32.089305Z"
    },
    "papermill": {
     "duration": 0.017241,
     "end_time": "2024-12-21T15:51:32.092765",
     "exception": false,
     "start_time": "2024-12-21T15:51:32.075524",
     "status": "completed"
    },
    "tags": []
   },
   "outputs": [],
   "source": [
    "HEIGHT = 13\n",
    "WIDTH = 37\n",
    "NUM_POINTS = 50\n",
    "dx = WIDTH / (NUM_POINTS - 1)\n",
    "xs = np.linspace(0, WIDTH, NUM_POINTS)\n",
    "\n",
    "\n",
    "# Правильный ответ для сравнения\n",
    "def cycl(theta):\n",
    "    return (1 - np.cos(theta)) / (theta - np.sin(theta)) - HEIGHT / WIDTH\n",
    "\n",
    "\n",
    "theta = optimize.root(cycl, (0.001, 2 * np.pi)).x[0]\n",
    "r = HEIGHT / (1 - np.cos(theta))\n",
    "ts = np.linspace(0, theta, 1000)\n",
    "sol_xs = r * (ts - np.sin(ts))\n",
    "sol_ys = HEIGHT - r * (1 - np.cos(ts))"
   ]
  },
  {
   "cell_type": "code",
   "execution_count": 6,
   "id": "657ac8a2",
   "metadata": {
    "execution": {
     "iopub.execute_input": "2024-12-21T15:51:32.101772Z",
     "iopub.status.busy": "2024-12-21T15:51:32.101391Z",
     "iopub.status.idle": "2024-12-21T15:51:32.302116Z",
     "shell.execute_reply": "2024-12-21T15:51:32.300942Z"
    },
    "papermill": {
     "duration": 0.207967,
     "end_time": "2024-12-21T15:51:32.304480",
     "exception": false,
     "start_time": "2024-12-21T15:51:32.096513",
     "status": "completed"
    },
    "tags": []
   },
   "outputs": [
    {
     "data": {
      "image/png": "[encoded data removed]",
      "text/plain": [
       "<Figure size 640x480 with 1 Axes>"
      ]
     },
     "metadata": {},
     "output_type": "display_data"
    }
   ],
   "source": [
    "# Функция для отрисовки\n",
    "def draw(ys):\n",
    "    fig = plt.figure()\n",
    "    ax = fig.add_subplot(111)\n",
    "    ax.plot(xs, ys, marker=\"o\")\n",
    "    ax.plot(sol_xs, sol_ys)\n",
    "    plt.show()\n",
    "\n",
    "\n",
    "# Инициализируем горку прямой\n",
    "ys = np.linspace(HEIGHT, 0, NUM_POINTS)\n",
    "draw(ys)"
   ]
  },
  {
   "cell_type": "code",
   "execution_count": 7,
   "id": "a324c849",
   "metadata": {
    "execution": {
     "iopub.execute_input": "2024-12-21T15:51:32.314180Z",
     "iopub.status.busy": "2024-12-21T15:51:32.313756Z",
     "iopub.status.idle": "2024-12-21T15:51:32.321087Z",
     "shell.execute_reply": "2024-12-21T15:51:32.319733Z"
    },
    "papermill": {
     "duration": 0.015146,
     "end_time": "2024-12-21T15:51:32.323791",
     "exception": false,
     "start_time": "2024-12-21T15:51:32.308645",
     "status": "completed"
    },
    "tags": []
   },
   "outputs": [],
   "source": [
    "# Функция для вычисления времени спуска\n",
    "def get_time(ys):\n",
    "    g = 9.81\n",
    "    total_time = 0\n",
    "    for i in range(1, ys.shape[0]):\n",
    "        dx = xs[i] - xs[i - 1]\n",
    "        dy = ys[i] - ys[i - 1]\n",
    "        ds = np.sqrt(dx**2 + dy**2)\n",
    "        # Находим время спуска, используя закон сохранения энергии\n",
    "        total_time += ds / (\n",
    "            np.sqrt(2 * g * (HEIGHT - ys[i])) + np.sqrt(2 * g * (HEIGHT - ys[i - 1]))\n",
    "        )\n",
    "    return total_time"
   ]
  },
  {
   "cell_type": "code",
   "execution_count": 8,
   "id": "ba7194cc",
   "metadata": {
    "execution": {
     "iopub.execute_input": "2024-12-21T15:51:32.334579Z",
     "iopub.status.busy": "2024-12-21T15:51:32.334174Z",
     "iopub.status.idle": "2024-12-21T15:51:32.339993Z",
     "shell.execute_reply": "2024-12-21T15:51:32.338782Z"
    },
    "papermill": {
     "duration": 0.014411,
     "end_time": "2024-12-21T15:51:32.342385",
     "exception": false,
     "start_time": "2024-12-21T15:51:32.327974",
     "status": "completed"
    },
    "tags": []
   },
   "outputs": [],
   "source": [
    "# Условие: не двигаем первую и последнюю точки\n",
    "bounds = (\n",
    "    [(HEIGHT, HEIGHT)]\n",
    "    + [(-float(\"inf\"), float(\"inf\")) for _ in range(NUM_POINTS - 2)]\n",
    "    + [(0, 0)]\n",
    ")"
   ]
  },
  {
   "cell_type": "code",
   "execution_count": 9,
   "id": "a52fd593",
   "metadata": {
    "execution": {
     "iopub.execute_input": "2024-12-21T15:51:32.352247Z",
     "iopub.status.busy": "2024-12-21T15:51:32.351857Z",
     "iopub.status.idle": "2024-12-21T15:51:33.965761Z",
     "shell.execute_reply": "2024-12-21T15:51:33.964491Z"
    },
    "papermill": {
     "duration": 1.621996,
     "end_time": "2024-12-21T15:51:33.968578",
     "exception": false,
     "start_time": "2024-12-21T15:51:32.346582",
     "status": "completed"
    },
    "tags": []
   },
   "outputs": [
    {
     "data": {
      "image/png": "[encoded data removed]",
      "text/plain": [
       "<Figure size 640x480 with 1 Axes>"
      ]
     },
     "metadata": {},
     "output_type": "display_data"
    },
    {
     "name": "stdout",
     "output_type": "stream",
     "text": [
      "Время движения по оптимизированной траектории: 1.7827363650285293\n"
     ]
    }
   ],
   "source": [
    "# Запуск оптимизации\n",
    "result = optimize.minimize(get_time, ys, bounds=bounds)\n",
    "\n",
    "draw(result.x)\n",
    "print(\"Время движения по оптимизированной траектории:\", get_time(result.x))"
   ]
  },
  {
   "cell_type": "code",
   "execution_count": null,
   "id": "8edaae30",
   "metadata": {
    "papermill": {
     "duration": 0.004799,
     "end_time": "2024-12-21T15:51:33.978053",
     "exception": false,
     "start_time": "2024-12-21T15:51:33.973254",
     "status": "completed"
    },
    "tags": []
   },
   "outputs": [],
   "source": []
  }
 ],
 "metadata": {
  "colab": {
   "collapsed_sections": [],
   "name": "mcs_spring2021_numpy_intro.ipynb",
   "provenance": []
  },
  "kaggle": {
   "accelerator": "none",
   "dataSources": [
    {
     "datasetId": 800154,
     "sourceId": 1372289,
     "sourceType": "datasetVersion"
    }
   ],
   "dockerImageVersionId": 30775,
   "isGpuEnabled": false,
   "isInternetEnabled": true,
   "language": "python",
   "sourceType": "notebook"
  },
  "kernelspec": {
   "display_name": "Python 3",
   "language": "python",
   "name": "python3"
  },
  "language_info": {
   "codemirror_mode": {
    "name": "ipython",
    "version": 3
   },
   "file_extension": ".py",
   "mimetype": "text/x-python",
   "name": "python",
   "nbconvert_exporter": "python",
   "pygments_lexer": "ipython3",
   "version": "3.10.14"
  },
  "papermill": {
   "default_parameters": {},
   "duration": 7.394326,
   "end_time": "2024-12-21T15:51:34.503967",
   "environment_variables": {},
   "exception": null,
   "input_path": "__notebook__.ipynb",
   "output_path": "__notebook__.ipynb",
   "parameters": {},
   "start_time": "2024-12-21T15:51:27.109641",
   "version": "2.6.0"
  }
 },
 "nbformat": 4,
 "nbformat_minor": 5
}
