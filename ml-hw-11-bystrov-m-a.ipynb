{
 "cells": [
  {
   "cell_type": "code",
   "execution_count": 1,
   "id": "5ab6d8f3",
   "metadata": {
    "execution": {
     "iopub.execute_input": "2024-11-23T13:57:06.084951Z",
     "iopub.status.busy": "2024-11-23T13:57:06.084557Z",
     "iopub.status.idle": "2024-11-23T13:57:08.291908Z",
     "shell.execute_reply": "2024-11-23T13:57:08.290810Z"
    },
    "papermill": {
     "duration": 2.214401,
     "end_time": "2024-11-23T13:57:08.294302",
     "exception": false,
     "start_time": "2024-11-23T13:57:06.079901",
     "status": "completed"
    },
    "tags": []
   },
   "outputs": [],
   "source": [
    "import numpy as np\n",
    "\n",
    "from sklearn import datasets\n",
    "from sklearn.linear_model import LinearRegression\n",
    "from sklearn.metrics import mean_squared_error\n",
    "\n",
    "import matplotlib.pyplot as plt"
   ]
  },
  {
   "cell_type": "markdown",
   "id": "cc773c72",
   "metadata": {
    "papermill": {
     "duration": 0.001898,
     "end_time": "2024-11-23T13:57:08.298859",
     "exception": false,
     "start_time": "2024-11-23T13:57:08.296961",
     "status": "completed"
    },
    "tags": []
   },
   "source": [
    "### Задача со звездочкой 11: NNLS.\r\n",
    "Напишите свою Non-Negative-Least-Squares на numpy **(scipy.optimize нельзя)**.\r\n",
    "\r\n",
    "Подробно прокомментируйте, почему ваш алгоритм работает."
   ]
  },
  {
   "cell_type": "markdown",
   "id": "c4388db0",
   "metadata": {
    "papermill": {
     "duration": 0.001776,
     "end_time": "2024-11-23T13:57:08.302665",
     "exception": false,
     "start_time": "2024-11-23T13:57:08.300889",
     "status": "completed"
    },
    "tags": []
   },
   "source": [
    "**1. Алгоритм NNLS:**\n",
    "\n",
    "$$\n",
    "arg \\ min_{b}||Xb-y||_{2}^{2}, \\ b \\ge 0\n",
    "$$\n",
    "\n",
    "**Аргументы:**\n",
    "\n",
    "X - (m, n) матрица признаков.\n",
    "\n",
    "y - (m,) вектор значений.\n",
    "\n",
    "tol - допустимая ошибка для выхода из алгоритма.\n",
    "\n",
    "max_iter - максимальное число итераций.\n",
    "\n",
    "**Функция возвращает:**\n",
    "\n",
    "b - (n,) вектор коэффициентов.\n",
    "\n",
    "**2. Условие оптимального решения:**\n",
    "\n",
    "$$\n",
    "w=X^{T}(y-Xb) \\ge 0\n",
    "$$\n",
    "\n",
    "**3. Что за активные и пассивные компоненты весов b:**\n",
    "\n",
    "- Активные переменные участвуют в оптимизации\n",
    "- Пассивные переменные зафиксированы на 0\n",
    "- Алгоритм перемещает веса между активным A и пассивным P наборами, для разделения сложной задачи оптимизации на подзадачи. Если градиент пассивных весов становится положительным - это сигнал, что компонента должна быть добавлена в активный набор, так как она может улучшить решение регрессии. Если при вычислении одна из компонент становится отрицательной, она возвращается в пассивный набор. Таким образом, мы как бы отсеиваем веса, которые отрицательные.\n",
    "\n",
    "**4. Оптимизация по активным переменным:**\n",
    "\n",
    "Для активного подмножества переменных решается задача наименьших квадратов\n",
    "\n",
    "$$\n",
    "X_{a}b_{a}=y,\n",
    "$$\n",
    "где $X_{a}$ подматрица $X$, соответсвующая активным переменным.\n",
    "\n",
    "**5.Что за альфа?**\n",
    "\n",
    "Альфа корректирует вектор весов b, если в нем есть отрицательные значения.\n",
    "\n",
    "Находим афльфа для отрицательного значения:\n",
    "$$\n",
    "\\alpha=min(\\frac{b_{i}}{b_{i}-b_{i}^{new}}),\n",
    "$$\n",
    "\n",
    "где $b_{i}$ - элемент предыдущего решения, $b_{i}^{new}$ - отрицательный элемент текущего решения\n",
    "\n",
    "Обновляем $b_{A}$ по формуле:\n",
    "$$\n",
    "b_A=b_A+\\alpha(b_A^{new}-b_A)\n",
    "$$"
   ]
  },
  {
   "cell_type": "code",
   "execution_count": 2,
   "id": "2994a7a3",
   "metadata": {
    "execution": {
     "iopub.execute_input": "2024-11-23T13:57:08.308531Z",
     "iopub.status.busy": "2024-11-23T13:57:08.308001Z",
     "iopub.status.idle": "2024-11-23T13:57:08.318212Z",
     "shell.execute_reply": "2024-11-23T13:57:08.317082Z"
    },
    "papermill": {
     "duration": 0.015673,
     "end_time": "2024-11-23T13:57:08.320335",
     "exception": false,
     "start_time": "2024-11-23T13:57:08.304662",
     "status": "completed"
    },
    "tags": []
   },
   "outputs": [],
   "source": [
    "def nnls(X, y, tol=1e-8, max_iter=500):\n",
    "    \n",
    "    m, n = X.shape\n",
    "    b = np.zeros(n)             # Решение (начальное приближение)\n",
    "    w = X.T @ (y - X @ b)       # Вектор градиентов\n",
    "    A = np.zeros(n, dtype=bool) # Индикатор активных переменных\n",
    "    P = ~A                      # Индикатор пассивных переменных (нулевых)\n",
    "    \n",
    "    iter_count = 0\n",
    "\n",
    "    while iter_count < max_iter:\n",
    "        iter_count += 1\n",
    "        \n",
    "        # Шаг 1: Проверяем условие оптимальности\n",
    "        if np.all(w[P] <= tol): # Если все градиенты пассивных переменных <= 0, решение оптимально\n",
    "            break\n",
    "        \n",
    "        # Шаг 2: Находим индекс переменной, которая \"наиболее нарушает\" ограничение\n",
    "        t = np.argmax(w * P) # Переменная с максимальным градиентом (в P)\n",
    "        A[t] = True          # Переносим переменную в активный набор\n",
    "        P[t] = False         # Убираем переменную из пассивного набора\n",
    "        \n",
    "        # Шаг 3: Находим оптимальное решение для активного набора\n",
    "        while True:\n",
    "            # Минимизируем ||X_A b_A - y||²\n",
    "            X_A = X[:, A]\n",
    "            b_A = np.linalg.pinv(X_A) @ y  # Решение в активном пространстве\n",
    "            \n",
    "            if np.all(b_A >= 0): # Если все компоненты ba >= 0, решение допустимо\n",
    "                b[A] = b_A\n",
    "                break\n",
    "            \n",
    "            # Шаг 4: Ищем \"переключающую\" точку (переменную, пересекающую 0)\n",
    "            alpha = np.min(b[A][b_A < 0] / (b[A][b_A < 0] - b_A[b_A < 0]))\n",
    "            b[A] += alpha * (b_A - b[A]) # Интерполируем к границе\n",
    "            A[b < tol] = False          # Убираем переменные из активного набора\n",
    "            P = ~A                      # Обновляем индикаторы\n",
    "            \n",
    "        # Шаг 5: Обновляем градиенты\n",
    "        w = X.T @ (y - X @ b)\n",
    "    \n",
    "    return b"
   ]
  },
  {
   "cell_type": "code",
   "execution_count": 3,
   "id": "92bf6983",
   "metadata": {
    "execution": {
     "iopub.execute_input": "2024-11-23T13:57:08.326657Z",
     "iopub.status.busy": "2024-11-23T13:57:08.326205Z",
     "iopub.status.idle": "2024-11-23T13:57:08.689790Z",
     "shell.execute_reply": "2024-11-23T13:57:08.688609Z"
    },
    "papermill": {
     "duration": 0.369323,
     "end_time": "2024-11-23T13:57:08.692047",
     "exception": false,
     "start_time": "2024-11-23T13:57:08.322724",
     "status": "completed"
    },
    "tags": []
   },
   "outputs": [
    {
     "name": "stdout",
     "output_type": "stream",
     "text": [
      "LinearRegression Coefficients: -647.3466141356599 153.0336939672656\n",
      "NNLS Coefficients: 0.0 153.36255924170615\n",
      "Mean squared error (LinearRegression): 4538.340456055545\n",
      "Mean squared error (NNLS): 5568.964624559196\n"
     ]
    },
    {
     "data": {
      "image/png": "[encoded data removed]",
      "text/plain": [
       "<Figure size 640x480 with 1 Axes>"
      ]
     },
     "metadata": {},
     "output_type": "display_data"
    }
   ],
   "source": [
    "# Пример использования\n",
    "diabetes_X, diabetes_y = datasets.load_diabetes(return_X_y=True)\n",
    "diabetes_X = diabetes_X[:, np.newaxis, 6]\n",
    "\n",
    "diabetes_X_train = diabetes_X[:-20]\n",
    "diabetes_X_test = diabetes_X[-20:]\n",
    "diabetes_y_train = diabetes_y[:-20]\n",
    "diabetes_y_test = diabetes_y[-20:]\n",
    "\n",
    "regr = LinearRegression()\n",
    "regr.fit(diabetes_X_train, diabetes_y_train)\n",
    "\n",
    "# Обучение с nnls\n",
    "X_train_with_intercept = np.hstack([np.ones((diabetes_X_train.shape[0], 1)), diabetes_X_train])\n",
    "coefficients_nnls = nnls(X_train_with_intercept, diabetes_y_train)\n",
    "intercept_nnls, coef_nnls = coefficients_nnls[0], coefficients_nnls[1]\n",
    "\n",
    "# Предсказания\n",
    "diabetes_y_pred = regr.predict(diabetes_X_test)\n",
    "X_test_with_intercept = np.hstack([np.ones((diabetes_X_test.shape[0], 1)), diabetes_X_test])\n",
    "diabetes_y_pred_nnls = X_test_with_intercept @ coefficients_nnls\n",
    "\n",
    "print(\"LinearRegression Coefficients:\", regr.coef_[0], regr.intercept_)\n",
    "print(\"NNLS Coefficients:\", coef_nnls, intercept_nnls)\n",
    "\n",
    "print(\"Mean squared error (LinearRegression):\", mean_squared_error(diabetes_y_test, diabetes_y_pred))\n",
    "print(\"Mean squared error (NNLS):\", mean_squared_error(diabetes_y_test, diabetes_y_pred_nnls))\n",
    "\n",
    "plt.scatter(diabetes_X_test, diabetes_y_test, color=\"black\", label=\"Data\")\n",
    "plt.plot(diabetes_X_test, diabetes_y_pred, color=\"blue\", linewidth=1, label=\"LinearRegression\")\n",
    "plt.plot(diabetes_X_test, diabetes_y_pred_nnls, color=\"red\", linewidth=1, label=\"NNLS\")\n",
    "plt.legend()\n",
    "plt.show()"
   ]
  },
  {
   "cell_type": "markdown",
   "id": "0b3a5a1b",
   "metadata": {
    "papermill": {
     "duration": 0.002594,
     "end_time": "2024-11-23T13:57:08.697528",
     "exception": false,
     "start_time": "2024-11-23T13:57:08.694934",
     "status": "completed"
    },
    "tags": []
   },
   "source": [
    "### Задача со звездочкой 12: ODR.\r\n",
    "Откройте [ODRPACK User Guide](https://docs.scipy.org/doc/external/odrpack_guide.pdf) (осторожно: FORTRAN-77), и разберитесь что происходит в этом примере, поищите более современные данные и воспроизведитеng)"
   ]
  }
 ],
 "metadata": {
  "kaggle": {
   "accelerator": "none",
   "dataSources": [],
   "dockerImageVersionId": 30786,
   "isGpuEnabled": false,
   "isInternetEnabled": true,
   "language": "python",
   "sourceType": "notebook"
  },
  "kernelspec": {
   "display_name": "Python 3",
   "language": "python",
   "name": "python3"
  },
  "language_info": {
   "codemirror_mode": {
    "name": "ipython",
    "version": 3
   },
   "file_extension": ".py",
   "mimetype": "text/x-python",
   "name": "python",
   "nbconvert_exporter": "python",
   "pygments_lexer": "ipython3",
   "version": "3.10.14"
  },
  "papermill": {
   "default_parameters": {},
   "duration": 6.242856,
   "end_time": "2024-11-23T13:57:09.222690",
   "environment_variables": {},
   "exception": null,
   "input_path": "__notebook__.ipynb",
   "output_path": "__notebook__.ipynb",
   "parameters": {},
   "start_time": "2024-11-23T13:57:02.979834",
   "version": "2.6.0"
  }
 },
 "nbformat": 4,
 "nbformat_minor": 5
}
