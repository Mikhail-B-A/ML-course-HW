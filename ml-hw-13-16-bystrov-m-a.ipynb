{
 "cells": [
  {
   "cell_type": "code",
   "execution_count": 1,
   "id": "16fd5cd2",
   "metadata": {
    "execution": {
     "iopub.execute_input": "2024-12-07T16:27:06.777671Z",
     "iopub.status.busy": "2024-12-07T16:27:06.777279Z",
     "iopub.status.idle": "2024-12-07T16:27:07.209704Z",
     "shell.execute_reply": "2024-12-07T16:27:07.208711Z"
    },
    "papermill": {
     "duration": 0.441852,
     "end_time": "2024-12-07T16:27:07.212253",
     "exception": false,
     "start_time": "2024-12-07T16:27:06.770401",
     "status": "completed"
    },
    "tags": []
   },
   "outputs": [],
   "source": [
    "import numpy as np\n",
    "from scipy.linalg import svd, qr, solve_triangular"
   ]
  },
  {
   "cell_type": "markdown",
   "id": "cf9c1442",
   "metadata": {
    "papermill": {
     "duration": 0.003993,
     "end_time": "2024-12-07T16:27:07.220847",
     "exception": false,
     "start_time": "2024-12-07T16:27:07.216854",
     "status": "completed"
    },
    "tags": []
   },
   "source": [
    "# Bonus task 13: gelss (easy)\n",
    "Implement `gelss` (with numpy, python and scipy.svd)."
   ]
  },
  {
   "cell_type": "markdown",
   "id": "93141b5c",
   "metadata": {
    "papermill": {
     "duration": 0.003961,
     "end_time": "2024-12-07T16:27:07.229482",
     "exception": false,
     "start_time": "2024-12-07T16:27:07.225521",
     "status": "completed"
    },
    "tags": []
   },
   "source": [
    "Computes the minimum norm solution to a real linear least squares problem using the singular value decomposition (SVD)."
   ]
  },
  {
   "cell_type": "code",
   "execution_count": 2,
   "id": "4d61a501",
   "metadata": {
    "execution": {
     "iopub.execute_input": "2024-12-07T16:27:07.239385Z",
     "iopub.status.busy": "2024-12-07T16:27:07.238904Z",
     "iopub.status.idle": "2024-12-07T16:27:07.248002Z",
     "shell.execute_reply": "2024-12-07T16:27:07.246763Z"
    },
    "papermill": {
     "duration": 0.016662,
     "end_time": "2024-12-07T16:27:07.250232",
     "exception": false,
     "start_time": "2024-12-07T16:27:07.233570",
     "status": "completed"
    },
    "tags": []
   },
   "outputs": [],
   "source": [
    "def gelss(A, B, rcond=1e-10):\n",
    "    \n",
    "    A = np.asarray(A)\n",
    "    B = np.asarray(B)\n",
    "    m, n = A.shape\n",
    "    \n",
    "    # Ensure B is a 2D array for consistency\n",
    "    if B.ndim == 1:\n",
    "        B = B[:, np.newaxis]\n",
    "    \n",
    "    # Perform SVD\n",
    "    U, s, V = svd(A, full_matrices=False)\n",
    "\n",
    "    # Compute the optimal rank\n",
    "    tol = rcond * max(s)\n",
    "    rank = np.sum(s > tol)\n",
    "    \n",
    "    # Invert singular values with the rank cutoff\n",
    "    s_inv = np.zeros_like(s)\n",
    "    s_inv[:rank] = 1 / s[:rank]\n",
    "    \n",
    "    # Solve the least-squares problem\n",
    "    X = V.T @ np.diag(s_inv) @ U.T @ B\n",
    "    \n",
    "    # Compute residuals if the system is overdetermined\n",
    "    if m > n:\n",
    "        residuals = np.linalg.norm(B - A @ X, axis=0)**2\n",
    "    else:\n",
    "        residuals = np.array([])\n",
    "    \n",
    "    # Return X as a 1D array if B was 1D\n",
    "    if X.shape[1] == 1:\n",
    "        X = X.ravel()\n",
    "    \n",
    "    return X, residuals, rank, s\n"
   ]
  },
  {
   "cell_type": "code",
   "execution_count": 3,
   "id": "4fb8a923",
   "metadata": {
    "execution": {
     "iopub.execute_input": "2024-12-07T16:27:07.261956Z",
     "iopub.status.busy": "2024-12-07T16:27:07.261019Z",
     "iopub.status.idle": "2024-12-07T16:27:07.295275Z",
     "shell.execute_reply": "2024-12-07T16:27:07.294142Z"
    },
    "papermill": {
     "duration": 0.04165,
     "end_time": "2024-12-07T16:27:07.297337",
     "exception": false,
     "start_time": "2024-12-07T16:27:07.255687",
     "status": "completed"
    },
    "tags": []
   },
   "outputs": [
    {
     "name": "stdout",
     "output_type": "stream",
     "text": [
      "A:\n",
      " [[4 2]\n",
      " [5 4]\n",
      " [3 7]] \n",
      "B:\n",
      " [2 1 2]\n",
      "X: [0.2221163  0.16110582]\n",
      "Residuals: [1.23546235]\n",
      "Rank: 2\n",
      "Singular Values: [10.46003935  3.09638123]\n"
     ]
    }
   ],
   "source": [
    "# Example\n",
    "A = np.array([[4, 2], [5, 4], [3, 7]])\n",
    "B = np.array([2, 1, 2])\n",
    "X, residuals, rank, singular_values = gelss(A, B)\n",
    "\n",
    "print(\"A:\\n\", A, \"\\nB:\\n\", B)\n",
    "print(\"X:\", X)\n",
    "print(\"Residuals:\", residuals)\n",
    "print(\"Rank:\", rank)\n",
    "print(\"Singular Values:\", singular_values)"
   ]
  },
  {
   "cell_type": "markdown",
   "id": "20cd9aae",
   "metadata": {
    "papermill": {
     "duration": 0.004076,
     "end_time": "2024-12-07T16:27:07.305742",
     "exception": false,
     "start_time": "2024-12-07T16:27:07.301666",
     "status": "completed"
    },
    "tags": []
   },
   "source": [
    "# Bonus task 14: gelsd\n",
    "Implement `gelsd` (with numpy and python ans scipy.svd). "
   ]
  },
  {
   "cell_type": "markdown",
   "id": "c5134585",
   "metadata": {
    "papermill": {
     "duration": 0.00388,
     "end_time": "2024-12-07T16:27:07.313734",
     "exception": false,
     "start_time": "2024-12-07T16:27:07.309854",
     "status": "completed"
    },
    "tags": []
   },
   "source": [
    "The problem is solved in three steps:\r\n",
    "\r\n",
    "- (1) Reduce the coefficient matrix A to bidiagonal form with\r\n",
    "     Householder transformations, reducing the original problem\r\n",
    "     into a \"bidiagonal least squares problem\" (BLS)\r\n",
    "- (2) Solve the BLS using a divide and conquer approach.\r\n",
    "- (3) Apply back all the Householder transformations to solve\r\n",
    "     the original least squares problem."
   ]
  },
  {
   "cell_type": "code",
   "execution_count": 4,
   "id": "f55af02b",
   "metadata": {
    "execution": {
     "iopub.execute_input": "2024-12-07T16:27:07.323740Z",
     "iopub.status.busy": "2024-12-07T16:27:07.323401Z",
     "iopub.status.idle": "2024-12-07T16:27:07.330338Z",
     "shell.execute_reply": "2024-12-07T16:27:07.329196Z"
    },
    "papermill": {
     "duration": 0.01451,
     "end_time": "2024-12-07T16:27:07.332347",
     "exception": false,
     "start_time": "2024-12-07T16:27:07.317837",
     "status": "completed"
    },
    "tags": []
   },
   "outputs": [],
   "source": [
    "def gelsd(A, b, rcond=1e-10):\n",
    "    \n",
    "    # Perform SVD\n",
    "    U, s, V = svd(A, full_matrices=False)\n",
    "\n",
    "    # Compute the optimal rank\n",
    "    tol = s[0] * rcond\n",
    "    rank = np.sum(s > tol)\n",
    "\n",
    "    # Compute the pseudo-inverse of singular values\n",
    "    s_inv = np.zeros_like(s)\n",
    "    s_inv[:rank] = 1 / s[:rank]\n",
    "\n",
    "    # Solve for x\n",
    "    X = V.T @ (s_inv * (U.T @ b))\n",
    "\n",
    "    # Compute residuals if the system is overdetermined\n",
    "    if A.shape[0] > A.shape[1] and rank == A.shape[1]:\n",
    "        residuals = np.linalg.norm(A @ X - b)**2\n",
    "    else:\n",
    "        residuals = np.array([])  # Empty if no residuals are computed\n",
    "\n",
    "    return X, residuals, rank, s\n"
   ]
  },
  {
   "cell_type": "code",
   "execution_count": 5,
   "id": "c46139f3",
   "metadata": {
    "execution": {
     "iopub.execute_input": "2024-12-07T16:27:07.342944Z",
     "iopub.status.busy": "2024-12-07T16:27:07.341992Z",
     "iopub.status.idle": "2024-12-07T16:27:07.353367Z",
     "shell.execute_reply": "2024-12-07T16:27:07.352029Z"
    },
    "papermill": {
     "duration": 0.019335,
     "end_time": "2024-12-07T16:27:07.355917",
     "exception": false,
     "start_time": "2024-12-07T16:27:07.336582",
     "status": "completed"
    },
    "tags": []
   },
   "outputs": [
    {
     "name": "stdout",
     "output_type": "stream",
     "text": [
      "A:\n",
      " [[ 1  1]\n",
      " [ 1 -1]\n",
      " [ 1  0]] \n",
      "B:\n",
      "\n",
      "X: [1. 1.]\n",
      "Residuals: 0.0\n",
      "Rank: 2\n",
      "Singular values: [1.73205081 1.41421356]\n"
     ]
    },
    {
     "data": {
      "text/plain": [
       "array([2., 0., 1.])"
      ]
     },
     "execution_count": 5,
     "metadata": {},
     "output_type": "execute_result"
    }
   ],
   "source": [
    "# Example\n",
    "A = np.array([[1, 1], [1, -1], [1, 0]])\n",
    "B = np.array([2, 0, 1])\n",
    "\n",
    "X, residuals, rank, singular_values = gelsd(A, B)\n",
    "\n",
    "print(\"A:\\n\", A, \"\\nB:\\n\", )\n",
    "print(\"X:\", X)\n",
    "print(\"Residuals:\", residuals)\n",
    "print(\"Rank:\", rank)\n",
    "print(\"Singular values:\", singular_values)\n",
    "A@X"
   ]
  },
  {
   "cell_type": "markdown",
   "id": "7ecb9a6e",
   "metadata": {
    "papermill": {
     "duration": 0.004073,
     "end_time": "2024-12-07T16:27:07.364574",
     "exception": false,
     "start_time": "2024-12-07T16:27:07.360501",
     "status": "completed"
    },
    "tags": []
   },
   "source": [
    "# Bonus task 15: gelsy\n",
    "Implement `gelsy` (with numpy, python and scipy.qr)."
   ]
  },
  {
   "cell_type": "markdown",
   "id": "4328335e",
   "metadata": {
    "papermill": {
     "duration": 0.004106,
     "end_time": "2024-12-07T16:27:07.372944",
     "exception": false,
     "start_time": "2024-12-07T16:27:07.368838",
     "status": "completed"
    },
    "tags": []
   },
   "source": [
    "The routine first computes a QR factorization with column pivoting:\r\n",
    "```\r\n",
    "     A * P = Q * [ R11 R12 ]\r\n",
    "                 [  0  R22 ]\r\n",
    "```\r\n",
    " with R11 defined as the largest leading submatrix whose estimated\r\n",
    " condition number is less than 1/RCOND.  The order of R11, RANK,\r\n",
    " is the effective rank of A.\r\n",
    "\r\n",
    " Then, R22 is considered to be negligible, and R12 is annihilated\r\n",
    " by orthogonal transformations from the right, arriving at the\r\n",
    " complete orthogonal factorization:\r\n",
    " ```\r\n",
    "    A * P = Q * [ T11 0 ] * Z\r\n",
    "                [  0  0 ]\r\n",
    "```\r\n",
    " The minimum-norm solution is then\r\n",
    "```\r\n",
    "    X = P * Z**T [ inv(T11)*Q1**T*B ]\r\n",
    "                 [        0         ]\r\n",
    "```\r\n",
    " where Q1 consists of the first RANK columns of Q."
   ]
  },
  {
   "cell_type": "code",
   "execution_count": 6,
   "id": "88749382",
   "metadata": {
    "execution": {
     "iopub.execute_input": "2024-12-07T16:27:07.383133Z",
     "iopub.status.busy": "2024-12-07T16:27:07.382729Z",
     "iopub.status.idle": "2024-12-07T16:27:07.390676Z",
     "shell.execute_reply": "2024-12-07T16:27:07.389424Z"
    },
    "papermill": {
     "duration": 0.016058,
     "end_time": "2024-12-07T16:27:07.393268",
     "exception": false,
     "start_time": "2024-12-07T16:27:07.377210",
     "status": "completed"
    },
    "tags": []
   },
   "outputs": [],
   "source": [
    "def gelsy(A, B, rcond=1e-10):\n",
    "    \n",
    "    # Compute QR factorization with column pivoting\n",
    "    Q, R, P = qr(A, pivoting=True, mode='economic')\n",
    "    \n",
    "    # Identify the effective rank\n",
    "    diag_R = np.abs(np.diag(R))\n",
    "    max_diag_R = np.max(diag_R)\n",
    "    rank = np.sum(diag_R > rcond * max_diag_R)\n",
    "    \n",
    "    # Split R and Q based on the effective rank\n",
    "    R11 = R[:rank, :rank]\n",
    "    R12 = R[:rank, rank:]\n",
    "    R22 = R[rank:, rank:]\n",
    "    Q1 = Q[:, :rank]\n",
    "    \n",
    "    # Solve R11 * Y = Q1.T @ B\n",
    "    QtB = Q1.T @ B\n",
    "    Y = solve_triangular(R11, QtB[:rank], lower=False)\n",
    "    \n",
    "    # Reconstruct the solution using P\n",
    "    X = np.zeros((A.shape[1],) if B.ndim == 1 else (A.shape[1], B.shape[1]))\n",
    "    X[:rank] = Y\n",
    "    X = X[np.argsort(P)]  # Apply the inverse permutation\n",
    "    \n",
    "    return X, rank\n"
   ]
  },
  {
   "cell_type": "code",
   "execution_count": 7,
   "id": "ec46cbf6",
   "metadata": {
    "execution": {
     "iopub.execute_input": "2024-12-07T16:27:07.406737Z",
     "iopub.status.busy": "2024-12-07T16:27:07.406365Z",
     "iopub.status.idle": "2024-12-07T16:27:07.421659Z",
     "shell.execute_reply": "2024-12-07T16:27:07.420321Z"
    },
    "papermill": {
     "duration": 0.024403,
     "end_time": "2024-12-07T16:27:07.424309",
     "exception": false,
     "start_time": "2024-12-07T16:27:07.399906",
     "status": "completed"
    },
    "tags": []
   },
   "outputs": [
    {
     "name": "stdout",
     "output_type": "stream",
     "text": [
      "X: [17.71052632 -6.21052632  0.42105263]\n",
      "Rank: 3\n"
     ]
    },
    {
     "data": {
      "text/plain": [
       "array([11., 34., 21.])"
      ]
     },
     "execution_count": 7,
     "metadata": {},
     "output_type": "execute_result"
    }
   ],
   "source": [
    "# Example\n",
    "A = np.array([[2, 4, 1], [4, 6, 1], [2, 3, 10]], dtype=float)\n",
    "B = np.array([11, 34, 21], dtype=float)\n",
    "\n",
    "X, rank = gelsy(A, B)\n",
    "print(\"X:\", X)\n",
    "print(\"Rank:\", rank)\n",
    "\n",
    "A@X"
   ]
  },
  {
   "cell_type": "markdown",
   "id": "e9445404",
   "metadata": {
    "papermill": {
     "duration": 0.005319,
     "end_time": "2024-12-07T16:27:07.437253",
     "exception": false,
     "start_time": "2024-12-07T16:27:07.431934",
     "status": "completed"
    },
    "tags": []
   },
   "source": [
    "# Bonus task 16: Cholesky\n",
    "Fix bugs in the Cholesky decomposition algorithm."
   ]
  },
  {
   "cell_type": "markdown",
   "id": "839c10e9",
   "metadata": {
    "papermill": {
     "duration": 0.004397,
     "end_time": "2024-12-07T16:27:07.446370",
     "exception": false,
     "start_time": "2024-12-07T16:27:07.441973",
     "status": "completed"
    },
    "tags": []
   },
   "source": [
    "There are two bugs:\n",
    "1. Example matrix a is not positive-definite\n",
    "2. The algorithm attempts to access indices of the matrix L that do not exist"
   ]
  },
  {
   "cell_type": "code",
   "execution_count": 8,
   "id": "20a891ae",
   "metadata": {
    "execution": {
     "iopub.execute_input": "2024-12-07T16:27:07.457559Z",
     "iopub.status.busy": "2024-12-07T16:27:07.457040Z",
     "iopub.status.idle": "2024-12-07T16:27:07.463037Z",
     "shell.execute_reply": "2024-12-07T16:27:07.461817Z"
    },
    "papermill": {
     "duration": 0.01464,
     "end_time": "2024-12-07T16:27:07.465543",
     "exception": false,
     "start_time": "2024-12-07T16:27:07.450903",
     "status": "completed"
    },
    "tags": []
   },
   "outputs": [],
   "source": [
    "eps = 1.8e-17\n",
    "\n",
    "a = np.array([[eps, 1], [1, 1.0]])"
   ]
  },
  {
   "cell_type": "code",
   "execution_count": 9,
   "id": "2f43776d",
   "metadata": {
    "execution": {
     "iopub.execute_input": "2024-12-07T16:27:07.477030Z",
     "iopub.status.busy": "2024-12-07T16:27:07.476664Z",
     "iopub.status.idle": "2024-12-07T16:27:07.486466Z",
     "shell.execute_reply": "2024-12-07T16:27:07.485095Z"
    },
    "papermill": {
     "duration": 0.018753,
     "end_time": "2024-12-07T16:27:07.489027",
     "exception": false,
     "start_time": "2024-12-07T16:27:07.470274",
     "status": "completed"
    },
    "tags": []
   },
   "outputs": [],
   "source": [
    "### THIS WORKS\n",
    "\n",
    "def cholesky(a):\n",
    "\n",
    "    try:\n",
    "        # Check if the matrix is square\n",
    "        n_rows, n_cols = a.shape\n",
    "        if n_rows != n_cols:\n",
    "            raise ValueError(f\"Input matrix A must be square. Got {n_rows} rows and {n_cols} columns.\")\n",
    "        \n",
    "        n = a.shape[0]\n",
    "        \n",
    "        # Check if the matrix is symmetric\n",
    "        if not np.allclose(a, a.T, atol=1e-8):\n",
    "            raise ValueError(\"Input matrix A must be symmetric.\")\n",
    "    \n",
    "        # Fix the first bug\n",
    "        # Check if the matrix positive-definite\n",
    "        if not np.all(np.linalg.eigvals(a) > 0):\n",
    "            raise ValueError(\"Matrix A is not positive-definite.\")\n",
    "    \n",
    "        L = np.zeros_like(a)\n",
    "        \n",
    "        for i in range(n):\n",
    "            for k in range(i + 1):\n",
    "                s = 0.0\n",
    "                for j in range(k):\n",
    "                    s += L[i, j] * L[k, j]\n",
    "                if i == k:\n",
    "                    L[i, i] = np.sqrt(a[i, i] - s)\n",
    "                else:\n",
    "                    # Fix the secong bug\n",
    "                    L[i, k] = (a[i, k] - s) / L[k, k]\n",
    "    \n",
    "        return L\n",
    "\n",
    "    except ValueError as e:\n",
    "            print(f\"Error during the decomposition: {e}\")\n",
    "            return None"
   ]
  },
  {
   "cell_type": "code",
   "execution_count": 10,
   "id": "7ef74661",
   "metadata": {
    "execution": {
     "iopub.execute_input": "2024-12-07T16:27:07.502140Z",
     "iopub.status.busy": "2024-12-07T16:27:07.501739Z",
     "iopub.status.idle": "2024-12-07T16:27:07.522909Z",
     "shell.execute_reply": "2024-12-07T16:27:07.521558Z"
    },
    "papermill": {
     "duration": 0.03099,
     "end_time": "2024-12-07T16:27:07.525890",
     "exception": false,
     "start_time": "2024-12-07T16:27:07.494900",
     "status": "completed"
    },
    "tags": []
   },
   "outputs": [
    {
     "name": "stdout",
     "output_type": "stream",
     "text": [
      "Error during the decomposition: Matrix A is not positive-definite.\n"
     ]
    }
   ],
   "source": [
    "cholesky(a)"
   ]
  },
  {
   "cell_type": "code",
   "execution_count": 11,
   "id": "d46b4cc4",
   "metadata": {
    "execution": {
     "iopub.execute_input": "2024-12-07T16:27:07.538827Z",
     "iopub.status.busy": "2024-12-07T16:27:07.538244Z",
     "iopub.status.idle": "2024-12-07T16:27:07.551003Z",
     "shell.execute_reply": "2024-12-07T16:27:07.549031Z"
    },
    "papermill": {
     "duration": 0.023169,
     "end_time": "2024-12-07T16:27:07.554563",
     "exception": false,
     "start_time": "2024-12-07T16:27:07.531394",
     "status": "completed"
    },
    "tags": []
   },
   "outputs": [
    {
     "name": "stdout",
     "output_type": "stream",
     "text": [
      "My Cholesky:\n",
      "[[ 2.  0.  0.]\n",
      " [ 6.  1.  0.]\n",
      " [-8.  5.  3.]]\n",
      "scipy Cholesky:\n",
      "[[ 2.  0.  0.]\n",
      " [ 6.  1.  0.]\n",
      " [-8.  5.  3.]]\n"
     ]
    }
   ],
   "source": [
    "a = np.array([[4, 12, -16],\n",
    "              [12, 37, -43],\n",
    "              [-16, -43, 98]], dtype=float)\n",
    "\n",
    "L = cholesky(a)\n",
    "print(f\"My Cholesky:\\n{L}\")\n",
    "print(f\"scipy Cholesky:\\n{np.linalg.cholesky(a)}\")"
   ]
  },
  {
   "cell_type": "code",
   "execution_count": 12,
   "id": "2e25f05e",
   "metadata": {
    "execution": {
     "iopub.execute_input": "2024-12-07T16:27:07.572993Z",
     "iopub.status.busy": "2024-12-07T16:27:07.572407Z",
     "iopub.status.idle": "2024-12-07T16:27:07.582261Z",
     "shell.execute_reply": "2024-12-07T16:27:07.581118Z"
    },
    "papermill": {
     "duration": 0.021724,
     "end_time": "2024-12-07T16:27:07.584419",
     "exception": false,
     "start_time": "2024-12-07T16:27:07.562695",
     "status": "completed"
    },
    "tags": []
   },
   "outputs": [
    {
     "data": {
      "text/plain": [
       "array([[  4.,  12., -16.],\n",
       "       [ 12.,  37., -43.],\n",
       "       [-16., -43.,  98.]])"
      ]
     },
     "execution_count": 12,
     "metadata": {},
     "output_type": "execute_result"
    }
   ],
   "source": [
    "L @ L.T"
   ]
  },
  {
   "cell_type": "code",
   "execution_count": null,
   "id": "f9fdffe2",
   "metadata": {
    "papermill": {
     "duration": 0.004652,
     "end_time": "2024-12-07T16:27:07.594367",
     "exception": false,
     "start_time": "2024-12-07T16:27:07.589715",
     "status": "completed"
    },
    "tags": []
   },
   "outputs": [],
   "source": []
  }
 ],
 "metadata": {
  "kaggle": {
   "accelerator": "none",
   "dataSources": [],
   "dockerImageVersionId": 30804,
   "isGpuEnabled": false,
   "isInternetEnabled": true,
   "language": "python",
   "sourceType": "notebook"
  },
  "kernelspec": {
   "display_name": "Python 3",
   "language": "python",
   "name": "python3"
  },
  "language_info": {
   "codemirror_mode": {
    "name": "ipython",
    "version": 3
   },
   "file_extension": ".py",
   "mimetype": "text/x-python",
   "name": "python",
   "nbconvert_exporter": "python",
   "pygments_lexer": "ipython3",
   "version": "3.10.14"
  },
  "papermill": {
   "default_parameters": {},
   "duration": 4.102147,
   "end_time": "2024-12-07T16:27:08.021592",
   "environment_variables": {},
   "exception": null,
   "input_path": "__notebook__.ipynb",
   "output_path": "__notebook__.ipynb",
   "parameters": {},
   "start_time": "2024-12-07T16:27:03.919445",
   "version": "2.6.0"
  }
 },
 "nbformat": 4,
 "nbformat_minor": 5
}
