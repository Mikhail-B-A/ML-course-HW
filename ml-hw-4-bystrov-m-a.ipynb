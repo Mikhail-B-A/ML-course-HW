{
 "cells": [
  {
   "cell_type": "code",
   "execution_count": 1,
   "id": "27d449b7",
   "metadata": {
    "_cell_guid": "b1076dfc-b9ad-4769-8c92-a6c4dae69d19",
    "_uuid": "8f2839f25d086af736a60e9eeb907d3b93b6e0e5",
    "execution": {
     "iopub.execute_input": "2024-10-13T15:22:59.964830Z",
     "iopub.status.busy": "2024-10-13T15:22:59.964329Z",
     "iopub.status.idle": "2024-10-13T15:23:18.458342Z",
     "shell.execute_reply": "2024-10-13T15:23:18.456806Z"
    },
    "papermill": {
     "duration": 18.503797,
     "end_time": "2024-10-13T15:23:18.461635",
     "exception": false,
     "start_time": "2024-10-13T15:22:59.957838",
     "status": "completed"
    },
    "tags": []
   },
   "outputs": [
    {
     "name": "stdout",
     "output_type": "stream",
     "text": [
      "Collecting jupyter_black\r\n",
      "  Downloading jupyter_black-0.4.0-py3-none-any.whl.metadata (7.8 kB)\r\n",
      "Collecting black>=21 (from black[jupyter]>=21->jupyter_black)\r\n",
      "  Downloading black-24.10.0-cp310-cp310-manylinux_2_17_x86_64.manylinux2014_x86_64.manylinux_2_28_x86_64.whl.metadata (79 kB)\r\n",
      "\u001b[2K     \u001b[90m━━━━━━━━━━━━━━━━━━━━━━━━━━━━━━━━━━━━━━━━\u001b[0m \u001b[32m79.2/79.2 kB\u001b[0m \u001b[31m3.1 MB/s\u001b[0m eta \u001b[36m0:00:00\u001b[0m\r\n",
      "\u001b[?25hRequirement already satisfied: click>=8.0.0 in /opt/conda/lib/python3.10/site-packages (from black>=21->black[jupyter]>=21->jupyter_black) (8.1.7)\r\n",
      "Requirement already satisfied: mypy-extensions>=0.4.3 in /opt/conda/lib/python3.10/site-packages (from black>=21->black[jupyter]>=21->jupyter_black) (1.0.0)\r\n",
      "Collecting packaging>=22.0 (from black>=21->black[jupyter]>=21->jupyter_black)\r\n",
      "  Downloading packaging-24.1-py3-none-any.whl.metadata (3.2 kB)\r\n",
      "Collecting pathspec>=0.9.0 (from black>=21->black[jupyter]>=21->jupyter_black)\r\n",
      "  Downloading pathspec-0.12.1-py3-none-any.whl.metadata (21 kB)\r\n",
      "Requirement already satisfied: platformdirs>=2 in /opt/conda/lib/python3.10/site-packages (from black>=21->black[jupyter]>=21->jupyter_black) (3.11.0)\r\n",
      "Requirement already satisfied: tomli>=1.1.0 in /opt/conda/lib/python3.10/site-packages (from black>=21->black[jupyter]>=21->jupyter_black) (2.0.1)\r\n",
      "Requirement already satisfied: typing-extensions>=4.0.1 in /opt/conda/lib/python3.10/site-packages (from black>=21->black[jupyter]>=21->jupyter_black) (4.12.2)\r\n",
      "Requirement already satisfied: ipython>=7.8.0 in /opt/conda/lib/python3.10/site-packages (from black[jupyter]>=21->jupyter_black) (8.21.0)\r\n",
      "Collecting tokenize-rt>=3.2.0 (from black[jupyter]>=21->jupyter_black)\r\n",
      "  Downloading tokenize_rt-6.0.0-py2.py3-none-any.whl.metadata (4.1 kB)\r\n",
      "Requirement already satisfied: decorator in /opt/conda/lib/python3.10/site-packages (from ipython>=7.8.0->black[jupyter]>=21->jupyter_black) (5.1.1)\r\n",
      "Requirement already satisfied: jedi>=0.16 in /opt/conda/lib/python3.10/site-packages (from ipython>=7.8.0->black[jupyter]>=21->jupyter_black) (0.19.1)\r\n",
      "Requirement already satisfied: matplotlib-inline in /opt/conda/lib/python3.10/site-packages (from ipython>=7.8.0->black[jupyter]>=21->jupyter_black) (0.1.7)\r\n",
      "Requirement already satisfied: prompt-toolkit<3.1.0,>=3.0.41 in /opt/conda/lib/python3.10/site-packages (from ipython>=7.8.0->black[jupyter]>=21->jupyter_black) (3.0.47)\r\n",
      "Requirement already satisfied: pygments>=2.4.0 in /opt/conda/lib/python3.10/site-packages (from ipython>=7.8.0->black[jupyter]>=21->jupyter_black) (2.18.0)\r\n",
      "Requirement already satisfied: stack-data in /opt/conda/lib/python3.10/site-packages (from ipython>=7.8.0->black[jupyter]>=21->jupyter_black) (0.6.2)\r\n",
      "Requirement already satisfied: traitlets>=5 in /opt/conda/lib/python3.10/site-packages (from ipython>=7.8.0->black[jupyter]>=21->jupyter_black) (5.14.3)\r\n",
      "Requirement already satisfied: exceptiongroup in /opt/conda/lib/python3.10/site-packages (from ipython>=7.8.0->black[jupyter]>=21->jupyter_black) (1.2.0)\r\n",
      "Requirement already satisfied: pexpect>4.3 in /opt/conda/lib/python3.10/site-packages (from ipython>=7.8.0->black[jupyter]>=21->jupyter_black) (4.9.0)\r\n",
      "Requirement already satisfied: parso<0.9.0,>=0.8.3 in /opt/conda/lib/python3.10/site-packages (from jedi>=0.16->ipython>=7.8.0->black[jupyter]>=21->jupyter_black) (0.8.4)\r\n",
      "Requirement already satisfied: ptyprocess>=0.5 in /opt/conda/lib/python3.10/site-packages (from pexpect>4.3->ipython>=7.8.0->black[jupyter]>=21->jupyter_black) (0.7.0)\r\n",
      "Requirement already satisfied: wcwidth in /opt/conda/lib/python3.10/site-packages (from prompt-toolkit<3.1.0,>=3.0.41->ipython>=7.8.0->black[jupyter]>=21->jupyter_black) (0.2.13)\r\n",
      "Requirement already satisfied: executing>=1.2.0 in /opt/conda/lib/python3.10/site-packages (from stack-data->ipython>=7.8.0->black[jupyter]>=21->jupyter_black) (2.0.1)\r\n",
      "Requirement already satisfied: asttokens>=2.1.0 in /opt/conda/lib/python3.10/site-packages (from stack-data->ipython>=7.8.0->black[jupyter]>=21->jupyter_black) (2.4.1)\r\n",
      "Requirement already satisfied: pure-eval in /opt/conda/lib/python3.10/site-packages (from stack-data->ipython>=7.8.0->black[jupyter]>=21->jupyter_black) (0.2.2)\r\n",
      "Requirement already satisfied: six>=1.12.0 in /opt/conda/lib/python3.10/site-packages (from asttokens>=2.1.0->stack-data->ipython>=7.8.0->black[jupyter]>=21->jupyter_black) (1.16.0)\r\n",
      "Downloading jupyter_black-0.4.0-py3-none-any.whl (7.6 kB)\r\n",
      "Downloading black-24.10.0-cp310-cp310-manylinux_2_17_x86_64.manylinux2014_x86_64.manylinux_2_28_x86_64.whl (1.8 MB)\r\n",
      "\u001b[2K   \u001b[90m━━━━━━━━━━━━━━━━━━━━━━━━━━━━━━━━━━━━━━━━\u001b[0m \u001b[32m1.8/1.8 MB\u001b[0m \u001b[31m40.8 MB/s\u001b[0m eta \u001b[36m0:00:00\u001b[0m\r\n",
      "\u001b[?25hDownloading packaging-24.1-py3-none-any.whl (53 kB)\r\n",
      "\u001b[2K   \u001b[90m━━━━━━━━━━━━━━━━━━━━━━━━━━━━━━━━━━━━━━━━\u001b[0m \u001b[32m54.0/54.0 kB\u001b[0m \u001b[31m2.5 MB/s\u001b[0m eta \u001b[36m0:00:00\u001b[0m\r\n",
      "\u001b[?25hDownloading pathspec-0.12.1-py3-none-any.whl (31 kB)\r\n",
      "Downloading tokenize_rt-6.0.0-py2.py3-none-any.whl (5.9 kB)\r\n",
      "Installing collected packages: tokenize-rt, pathspec, packaging, black, jupyter_black\r\n",
      "  Attempting uninstall: packaging\r\n",
      "    Found existing installation: packaging 21.3\r\n",
      "    Uninstalling packaging-21.3:\r\n",
      "      Successfully uninstalled packaging-21.3\r\n",
      "\u001b[31mERROR: pip's dependency resolver does not currently take into account all the packages that are installed. This behaviour is the source of the following dependency conflicts.\r\n",
      "google-cloud-bigquery 2.34.4 requires packaging<22.0dev,>=14.3, but you have packaging 24.1 which is incompatible.\r\n",
      "jupyterlab 4.2.5 requires jupyter-lsp>=2.0.0, but you have jupyter-lsp 1.5.1 which is incompatible.\r\n",
      "jupyterlab-lsp 5.1.0 requires jupyter-lsp>=2.0.0, but you have jupyter-lsp 1.5.1 which is incompatible.\r\n",
      "libpysal 4.9.2 requires shapely>=2.0.1, but you have shapely 1.8.5.post1 which is incompatible.\r\n",
      "thinc 8.3.2 requires numpy<2.1.0,>=2.0.0; python_version >= \"3.9\", but you have numpy 1.26.4 which is incompatible.\r\n",
      "ydata-profiling 4.10.0 requires scipy<1.14,>=1.4.1, but you have scipy 1.14.1 which is incompatible.\u001b[0m\u001b[31m\r\n",
      "\u001b[0mSuccessfully installed black-24.10.0 jupyter_black-0.4.0 packaging-24.1 pathspec-0.12.1 tokenize-rt-6.0.0\r\n"
     ]
    }
   ],
   "source": [
    "!pip install jupyter_black\n",
    "import jupyter_black\n",
    "jupyter_black.load()\n",
    "\n",
    "import pandas as pd\n",
    "import numpy as np"
   ]
  },
  {
   "cell_type": "markdown",
   "id": "322e1fac",
   "metadata": {
    "papermill": {
     "duration": 0.006023,
     "end_time": "2024-10-13T15:23:18.474396",
     "exception": false,
     "start_time": "2024-10-13T15:23:18.468373",
     "status": "completed"
    },
    "tags": []
   },
   "source": [
    "## Задача 4: Split\n",
    "\n",
    "Реализуйте разбиение датасета на train, test и val при помощи pandas и без использования циклов на Python. Разбиение должно быть стратифицировано по колонкам, данные должны быть перемешаны. Подробно объясните и/или прокомментируйте, почему ваш код делает то, что нужно."
   ]
  },
  {
   "cell_type": "code",
   "execution_count": 2,
   "id": "b5e216cd",
   "metadata": {
    "execution": {
     "iopub.execute_input": "2024-10-13T15:23:18.489177Z",
     "iopub.status.busy": "2024-10-13T15:23:18.488565Z",
     "iopub.status.idle": "2024-10-13T15:23:18.524103Z",
     "shell.execute_reply": "2024-10-13T15:23:18.522790Z"
    },
    "papermill": {
     "duration": 0.047039,
     "end_time": "2024-10-13T15:23:18.527706",
     "exception": false,
     "start_time": "2024-10-13T15:23:18.480667",
     "status": "completed"
    },
    "tags": []
   },
   "outputs": [],
   "source": [
    "df = pd.read_csv(\n",
    "    \"/kaggle/input/passenger-list-for-the-estonia-ferry-disaster/estonia-passenger-list.csv\"\n",
    ")"
   ]
  },
  {
   "cell_type": "code",
   "execution_count": 3,
   "id": "eb4ddfdd",
   "metadata": {
    "execution": {
     "iopub.execute_input": "2024-10-13T15:23:18.546807Z",
     "iopub.status.busy": "2024-10-13T15:23:18.546254Z",
     "iopub.status.idle": "2024-10-13T15:23:18.611254Z",
     "shell.execute_reply": "2024-10-13T15:23:18.609270Z"
    },
    "papermill": {
     "duration": 0.077386,
     "end_time": "2024-10-13T15:23:18.614683",
     "exception": false,
     "start_time": "2024-10-13T15:23:18.537297",
     "status": "completed"
    },
    "tags": []
   },
   "outputs": [],
   "source": [
    "def split_stratified(df, stratify_columns, train_frac=0.6, val_frac=0.2):\n",
    "    # Перемешиваем данные\n",
    "    df = df.sample(frac=1, random_state=42).reset_index(drop=True)\n",
    "\n",
    "    # Доля тестовой выборки\n",
    "    test_frac = 1 - train_frac - val_frac\n",
    "\n",
    "    # Группируем данные по колонкам для стратификации.\n",
    "    # Таким образом, мы будем знать соотношение между числом значений признаков.\n",
    "    # Например, группировка по ['Category', 'Survived'] даст нам таблицу, из которой\n",
    "    # мы узнаем соотношение числа виживших ко всем поссажирам в C и P классах отдельно,\n",
    "    # что позволит нам верно стратифицировать\n",
    "    grouped = df.groupby(stratify_columns)\n",
    "\n",
    "    # Создаем индексы для каждого элемента в каждой группе\n",
    "    df[\"group_index\"] = grouped.cumcount()\n",
    "\n",
    "    # Считаем количество элементов в каждой группе\n",
    "    group_sizes = grouped[\"group_index\"].transform(\"max\") + 1\n",
    "\n",
    "    # Рассчитываем индексы разбиения для train, val и test\n",
    "    train_index = (train_frac * group_sizes).astype(int)\n",
    "    val_index = ((train_frac + val_frac) * group_sizes).astype(int)\n",
    "\n",
    "    # Создаем отдельный столбец, где присваиваем каждой строке метку (train, val, test)\n",
    "    # на основе её индекса\n",
    "    df[\"split\"] = np.where(\n",
    "        df[\"group_index\"] < train_index,\n",
    "        \"train\",\n",
    "        np.where(df[\"group_index\"] < val_index, \"val\", \"test\"),\n",
    "    )\n",
    "\n",
    "    # Разбиваем датафрейм на три части по меткам, используя срез с условием\n",
    "    train_df = df[df[\"split\"] == \"train\"].drop(columns=[\"group_index\", \"split\"])\n",
    "    val_df = df[df[\"split\"] == \"val\"].drop(columns=[\"group_index\", \"split\"])\n",
    "    test_df = df[df[\"split\"] == \"test\"].drop(columns=[\"group_index\", \"split\"])\n",
    "\n",
    "    return train_df, val_df, test_df"
   ]
  },
  {
   "cell_type": "code",
   "execution_count": 4,
   "id": "f78c339f",
   "metadata": {
    "execution": {
     "iopub.execute_input": "2024-10-13T15:23:18.633831Z",
     "iopub.status.busy": "2024-10-13T15:23:18.633301Z",
     "iopub.status.idle": "2024-10-13T15:23:18.683503Z",
     "shell.execute_reply": "2024-10-13T15:23:18.682243Z"
    },
    "papermill": {
     "duration": 0.06315,
     "end_time": "2024-10-13T15:23:18.686901",
     "exception": false,
     "start_time": "2024-10-13T15:23:18.623751",
     "status": "completed"
    },
    "tags": []
   },
   "outputs": [],
   "source": [
    "train, val, test = split_stratified(df, [\"Category\", \"Survived\"])"
   ]
  },
  {
   "cell_type": "markdown",
   "id": "19bfce0e",
   "metadata": {
    "papermill": {
     "duration": 0.009452,
     "end_time": "2024-10-13T15:23:18.706285",
     "exception": false,
     "start_time": "2024-10-13T15:23:18.696833",
     "status": "completed"
    },
    "tags": []
   },
   "source": [
    "Из таблиц ниже можно заметить, что мы разбили датасет на три части так, что соотношения категориальных значений признаков соблидается. Т.е. в целом датасете в категории C соотношение выживших равно 39/154=0.25. В частях, на которые мы разбили 23/92=8/31=8/31~0.25. Аналогично для категории P. Это доказывает стратифицированность данных."
   ]
  },
  {
   "cell_type": "code",
   "execution_count": 5,
   "id": "2f7b2f28",
   "metadata": {
    "execution": {
     "iopub.execute_input": "2024-10-13T15:23:18.725579Z",
     "iopub.status.busy": "2024-10-13T15:23:18.724999Z",
     "iopub.status.idle": "2024-10-13T15:23:18.761858Z",
     "shell.execute_reply": "2024-10-13T15:23:18.760421Z"
    },
    "papermill": {
     "duration": 0.049034,
     "end_time": "2024-10-13T15:23:18.764657",
     "exception": false,
     "start_time": "2024-10-13T15:23:18.715623",
     "status": "completed"
    },
    "tags": []
   },
   "outputs": [
    {
     "data": {
      "text/html": [
       "<div>\n",
       "<style scoped>\n",
       "    .dataframe tbody tr th:only-of-type {\n",
       "        vertical-align: middle;\n",
       "    }\n",
       "\n",
       "    .dataframe tbody tr th {\n",
       "        vertical-align: top;\n",
       "    }\n",
       "\n",
       "    .dataframe thead th {\n",
       "        text-align: right;\n",
       "    }\n",
       "</style>\n",
       "<table border=\"1\" class=\"dataframe\">\n",
       "  <thead>\n",
       "    <tr style=\"text-align: right;\">\n",
       "      <th></th>\n",
       "      <th></th>\n",
       "      <th>PassengerId</th>\n",
       "      <th>Country</th>\n",
       "      <th>Firstname</th>\n",
       "      <th>Lastname</th>\n",
       "      <th>Sex</th>\n",
       "      <th>Age</th>\n",
       "    </tr>\n",
       "    <tr>\n",
       "      <th>Category</th>\n",
       "      <th>Survived</th>\n",
       "      <th></th>\n",
       "      <th></th>\n",
       "      <th></th>\n",
       "      <th></th>\n",
       "      <th></th>\n",
       "      <th></th>\n",
       "    </tr>\n",
       "  </thead>\n",
       "  <tbody>\n",
       "    <tr>\n",
       "      <th rowspan=\"2\" valign=\"top\">C</th>\n",
       "      <th>0</th>\n",
       "      <td>154</td>\n",
       "      <td>154</td>\n",
       "      <td>154</td>\n",
       "      <td>154</td>\n",
       "      <td>154</td>\n",
       "      <td>154</td>\n",
       "    </tr>\n",
       "    <tr>\n",
       "      <th>1</th>\n",
       "      <td>39</td>\n",
       "      <td>39</td>\n",
       "      <td>39</td>\n",
       "      <td>39</td>\n",
       "      <td>39</td>\n",
       "      <td>39</td>\n",
       "    </tr>\n",
       "    <tr>\n",
       "      <th rowspan=\"2\" valign=\"top\">P</th>\n",
       "      <th>0</th>\n",
       "      <td>698</td>\n",
       "      <td>698</td>\n",
       "      <td>698</td>\n",
       "      <td>698</td>\n",
       "      <td>698</td>\n",
       "      <td>698</td>\n",
       "    </tr>\n",
       "    <tr>\n",
       "      <th>1</th>\n",
       "      <td>98</td>\n",
       "      <td>98</td>\n",
       "      <td>98</td>\n",
       "      <td>98</td>\n",
       "      <td>98</td>\n",
       "      <td>98</td>\n",
       "    </tr>\n",
       "  </tbody>\n",
       "</table>\n",
       "</div>"
      ],
      "text/plain": [
       "                   PassengerId  Country  Firstname  Lastname  Sex  Age\n",
       "Category Survived                                                     \n",
       "C        0                 154      154        154       154  154  154\n",
       "         1                  39       39         39        39   39   39\n",
       "P        0                 698      698        698       698  698  698\n",
       "         1                  98       98         98        98   98   98"
      ]
     },
     "execution_count": 5,
     "metadata": {},
     "output_type": "execute_result"
    }
   ],
   "source": [
    "df.groupby([\"Category\", \"Survived\"]).count()"
   ]
  },
  {
   "cell_type": "code",
   "execution_count": 6,
   "id": "7d2c52ec",
   "metadata": {
    "execution": {
     "iopub.execute_input": "2024-10-13T15:23:18.780530Z",
     "iopub.status.busy": "2024-10-13T15:23:18.779801Z",
     "iopub.status.idle": "2024-10-13T15:23:18.803305Z",
     "shell.execute_reply": "2024-10-13T15:23:18.801954Z"
    },
    "papermill": {
     "duration": 0.034458,
     "end_time": "2024-10-13T15:23:18.806119",
     "exception": false,
     "start_time": "2024-10-13T15:23:18.771661",
     "status": "completed"
    },
    "tags": []
   },
   "outputs": [
    {
     "data": {
      "text/html": [
       "<div>\n",
       "<style scoped>\n",
       "    .dataframe tbody tr th:only-of-type {\n",
       "        vertical-align: middle;\n",
       "    }\n",
       "\n",
       "    .dataframe tbody tr th {\n",
       "        vertical-align: top;\n",
       "    }\n",
       "\n",
       "    .dataframe thead th {\n",
       "        text-align: right;\n",
       "    }\n",
       "</style>\n",
       "<table border=\"1\" class=\"dataframe\">\n",
       "  <thead>\n",
       "    <tr style=\"text-align: right;\">\n",
       "      <th></th>\n",
       "      <th></th>\n",
       "      <th>PassengerId</th>\n",
       "      <th>Country</th>\n",
       "      <th>Firstname</th>\n",
       "      <th>Lastname</th>\n",
       "      <th>Sex</th>\n",
       "      <th>Age</th>\n",
       "    </tr>\n",
       "    <tr>\n",
       "      <th>Category</th>\n",
       "      <th>Survived</th>\n",
       "      <th></th>\n",
       "      <th></th>\n",
       "      <th></th>\n",
       "      <th></th>\n",
       "      <th></th>\n",
       "      <th></th>\n",
       "    </tr>\n",
       "  </thead>\n",
       "  <tbody>\n",
       "    <tr>\n",
       "      <th rowspan=\"2\" valign=\"top\">C</th>\n",
       "      <th>0</th>\n",
       "      <td>92</td>\n",
       "      <td>92</td>\n",
       "      <td>92</td>\n",
       "      <td>92</td>\n",
       "      <td>92</td>\n",
       "      <td>92</td>\n",
       "    </tr>\n",
       "    <tr>\n",
       "      <th>1</th>\n",
       "      <td>23</td>\n",
       "      <td>23</td>\n",
       "      <td>23</td>\n",
       "      <td>23</td>\n",
       "      <td>23</td>\n",
       "      <td>23</td>\n",
       "    </tr>\n",
       "    <tr>\n",
       "      <th rowspan=\"2\" valign=\"top\">P</th>\n",
       "      <th>0</th>\n",
       "      <td>418</td>\n",
       "      <td>418</td>\n",
       "      <td>418</td>\n",
       "      <td>418</td>\n",
       "      <td>418</td>\n",
       "      <td>418</td>\n",
       "    </tr>\n",
       "    <tr>\n",
       "      <th>1</th>\n",
       "      <td>58</td>\n",
       "      <td>58</td>\n",
       "      <td>58</td>\n",
       "      <td>58</td>\n",
       "      <td>58</td>\n",
       "      <td>58</td>\n",
       "    </tr>\n",
       "  </tbody>\n",
       "</table>\n",
       "</div>"
      ],
      "text/plain": [
       "                   PassengerId  Country  Firstname  Lastname  Sex  Age\n",
       "Category Survived                                                     \n",
       "C        0                  92       92         92        92   92   92\n",
       "         1                  23       23         23        23   23   23\n",
       "P        0                 418      418        418       418  418  418\n",
       "         1                  58       58         58        58   58   58"
      ]
     },
     "execution_count": 6,
     "metadata": {},
     "output_type": "execute_result"
    }
   ],
   "source": [
    "train.groupby([\"Category\", \"Survived\"]).count()"
   ]
  },
  {
   "cell_type": "code",
   "execution_count": 7,
   "id": "0eff55b3",
   "metadata": {
    "execution": {
     "iopub.execute_input": "2024-10-13T15:23:18.824209Z",
     "iopub.status.busy": "2024-10-13T15:23:18.823616Z",
     "iopub.status.idle": "2024-10-13T15:23:18.848417Z",
     "shell.execute_reply": "2024-10-13T15:23:18.846891Z"
    },
    "papermill": {
     "duration": 0.038445,
     "end_time": "2024-10-13T15:23:18.851746",
     "exception": false,
     "start_time": "2024-10-13T15:23:18.813301",
     "status": "completed"
    },
    "tags": []
   },
   "outputs": [
    {
     "data": {
      "text/html": [
       "<div>\n",
       "<style scoped>\n",
       "    .dataframe tbody tr th:only-of-type {\n",
       "        vertical-align: middle;\n",
       "    }\n",
       "\n",
       "    .dataframe tbody tr th {\n",
       "        vertical-align: top;\n",
       "    }\n",
       "\n",
       "    .dataframe thead th {\n",
       "        text-align: right;\n",
       "    }\n",
       "</style>\n",
       "<table border=\"1\" class=\"dataframe\">\n",
       "  <thead>\n",
       "    <tr style=\"text-align: right;\">\n",
       "      <th></th>\n",
       "      <th></th>\n",
       "      <th>PassengerId</th>\n",
       "      <th>Country</th>\n",
       "      <th>Firstname</th>\n",
       "      <th>Lastname</th>\n",
       "      <th>Sex</th>\n",
       "      <th>Age</th>\n",
       "    </tr>\n",
       "    <tr>\n",
       "      <th>Category</th>\n",
       "      <th>Survived</th>\n",
       "      <th></th>\n",
       "      <th></th>\n",
       "      <th></th>\n",
       "      <th></th>\n",
       "      <th></th>\n",
       "      <th></th>\n",
       "    </tr>\n",
       "  </thead>\n",
       "  <tbody>\n",
       "    <tr>\n",
       "      <th rowspan=\"2\" valign=\"top\">C</th>\n",
       "      <th>0</th>\n",
       "      <td>31</td>\n",
       "      <td>31</td>\n",
       "      <td>31</td>\n",
       "      <td>31</td>\n",
       "      <td>31</td>\n",
       "      <td>31</td>\n",
       "    </tr>\n",
       "    <tr>\n",
       "      <th>1</th>\n",
       "      <td>8</td>\n",
       "      <td>8</td>\n",
       "      <td>8</td>\n",
       "      <td>8</td>\n",
       "      <td>8</td>\n",
       "      <td>8</td>\n",
       "    </tr>\n",
       "    <tr>\n",
       "      <th rowspan=\"2\" valign=\"top\">P</th>\n",
       "      <th>0</th>\n",
       "      <td>140</td>\n",
       "      <td>140</td>\n",
       "      <td>140</td>\n",
       "      <td>140</td>\n",
       "      <td>140</td>\n",
       "      <td>140</td>\n",
       "    </tr>\n",
       "    <tr>\n",
       "      <th>1</th>\n",
       "      <td>20</td>\n",
       "      <td>20</td>\n",
       "      <td>20</td>\n",
       "      <td>20</td>\n",
       "      <td>20</td>\n",
       "      <td>20</td>\n",
       "    </tr>\n",
       "  </tbody>\n",
       "</table>\n",
       "</div>"
      ],
      "text/plain": [
       "                   PassengerId  Country  Firstname  Lastname  Sex  Age\n",
       "Category Survived                                                     \n",
       "C        0                  31       31         31        31   31   31\n",
       "         1                   8        8          8         8    8    8\n",
       "P        0                 140      140        140       140  140  140\n",
       "         1                  20       20         20        20   20   20"
      ]
     },
     "execution_count": 7,
     "metadata": {},
     "output_type": "execute_result"
    }
   ],
   "source": [
    "val.groupby([\"Category\", \"Survived\"]).count()"
   ]
  },
  {
   "cell_type": "code",
   "execution_count": 8,
   "id": "d6e66a02",
   "metadata": {
    "execution": {
     "iopub.execute_input": "2024-10-13T15:23:18.870136Z",
     "iopub.status.busy": "2024-10-13T15:23:18.868947Z",
     "iopub.status.idle": "2024-10-13T15:23:18.892812Z",
     "shell.execute_reply": "2024-10-13T15:23:18.891234Z"
    },
    "papermill": {
     "duration": 0.036268,
     "end_time": "2024-10-13T15:23:18.896184",
     "exception": false,
     "start_time": "2024-10-13T15:23:18.859916",
     "status": "completed"
    },
    "tags": []
   },
   "outputs": [
    {
     "data": {
      "text/html": [
       "<div>\n",
       "<style scoped>\n",
       "    .dataframe tbody tr th:only-of-type {\n",
       "        vertical-align: middle;\n",
       "    }\n",
       "\n",
       "    .dataframe tbody tr th {\n",
       "        vertical-align: top;\n",
       "    }\n",
       "\n",
       "    .dataframe thead th {\n",
       "        text-align: right;\n",
       "    }\n",
       "</style>\n",
       "<table border=\"1\" class=\"dataframe\">\n",
       "  <thead>\n",
       "    <tr style=\"text-align: right;\">\n",
       "      <th></th>\n",
       "      <th></th>\n",
       "      <th>PassengerId</th>\n",
       "      <th>Country</th>\n",
       "      <th>Firstname</th>\n",
       "      <th>Lastname</th>\n",
       "      <th>Sex</th>\n",
       "      <th>Age</th>\n",
       "    </tr>\n",
       "    <tr>\n",
       "      <th>Category</th>\n",
       "      <th>Survived</th>\n",
       "      <th></th>\n",
       "      <th></th>\n",
       "      <th></th>\n",
       "      <th></th>\n",
       "      <th></th>\n",
       "      <th></th>\n",
       "    </tr>\n",
       "  </thead>\n",
       "  <tbody>\n",
       "    <tr>\n",
       "      <th rowspan=\"2\" valign=\"top\">C</th>\n",
       "      <th>0</th>\n",
       "      <td>31</td>\n",
       "      <td>31</td>\n",
       "      <td>31</td>\n",
       "      <td>31</td>\n",
       "      <td>31</td>\n",
       "      <td>31</td>\n",
       "    </tr>\n",
       "    <tr>\n",
       "      <th>1</th>\n",
       "      <td>8</td>\n",
       "      <td>8</td>\n",
       "      <td>8</td>\n",
       "      <td>8</td>\n",
       "      <td>8</td>\n",
       "      <td>8</td>\n",
       "    </tr>\n",
       "    <tr>\n",
       "      <th rowspan=\"2\" valign=\"top\">P</th>\n",
       "      <th>0</th>\n",
       "      <td>140</td>\n",
       "      <td>140</td>\n",
       "      <td>140</td>\n",
       "      <td>140</td>\n",
       "      <td>140</td>\n",
       "      <td>140</td>\n",
       "    </tr>\n",
       "    <tr>\n",
       "      <th>1</th>\n",
       "      <td>20</td>\n",
       "      <td>20</td>\n",
       "      <td>20</td>\n",
       "      <td>20</td>\n",
       "      <td>20</td>\n",
       "      <td>20</td>\n",
       "    </tr>\n",
       "  </tbody>\n",
       "</table>\n",
       "</div>"
      ],
      "text/plain": [
       "                   PassengerId  Country  Firstname  Lastname  Sex  Age\n",
       "Category Survived                                                     \n",
       "C        0                  31       31         31        31   31   31\n",
       "         1                   8        8          8         8    8    8\n",
       "P        0                 140      140        140       140  140  140\n",
       "         1                  20       20         20        20   20   20"
      ]
     },
     "execution_count": 8,
     "metadata": {},
     "output_type": "execute_result"
    }
   ],
   "source": [
    "test.groupby([\"Category\", \"Survived\"]).count()"
   ]
  }
 ],
 "metadata": {
  "kaggle": {
   "accelerator": "none",
   "dataSources": [
    {
     "datasetId": 800154,
     "sourceId": 1372289,
     "sourceType": "datasetVersion"
    }
   ],
   "dockerImageVersionId": 30786,
   "isGpuEnabled": false,
   "isInternetEnabled": true,
   "language": "python",
   "sourceType": "notebook"
  },
  "kernelspec": {
   "display_name": "Python 3",
   "language": "python",
   "name": "python3"
  },
  "language_info": {
   "codemirror_mode": {
    "name": "ipython",
    "version": 3
   },
   "file_extension": ".py",
   "mimetype": "text/x-python",
   "name": "python",
   "nbconvert_exporter": "python",
   "pygments_lexer": "ipython3",
   "version": "3.10.14"
  },
  "papermill": {
   "default_parameters": {},
   "duration": 22.714069,
   "end_time": "2024-10-13T15:23:19.429183",
   "environment_variables": {},
   "exception": null,
   "input_path": "__notebook__.ipynb",
   "output_path": "__notebook__.ipynb",
   "parameters": {},
   "start_time": "2024-10-13T15:22:56.715114",
   "version": "2.6.0"
  }
 },
 "nbformat": 4,
 "nbformat_minor": 5
}
